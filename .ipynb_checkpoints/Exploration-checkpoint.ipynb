{
 "cells": [
  {
   "cell_type": "code",
   "execution_count": 37,
   "id": "94be61f0-602b-4759-8e4d-77b2a478d6cc",
   "metadata": {},
   "outputs": [],
   "source": [
    "import pandas as pd\n",
    "import numpy as np\n",
    "import matplotlib.pyplot as plt\n",
    "import sklearn\n",
    "from sklearn.ensemble import RandomForestClassifier\n",
    "import copy\n",
    "plt.style.use('ggplot')\n"
   ]
  },
  {
   "cell_type": "markdown",
   "id": "ea49958d-d3ef-4d51-b687-334229d74879",
   "metadata": {},
   "source": [
    "# 1. Browse and clean data"
   ]
  },
  {
   "cell_type": "code",
   "execution_count": 2,
   "id": "c61375ae-26d1-4acb-b813-834294354694",
   "metadata": {},
   "outputs": [
    {
     "name": "stderr",
     "output_type": "stream",
     "text": [
      "C:\\Users\\cassi\\AppData\\Local\\Temp\\ipykernel_6372\\2213050754.py:1: DtypeWarning: Columns (8) have mixed types. Specify dtype option on import or set low_memory=False.\n",
      "  transaction_df = pd.read_csv('sample_transaction_data.csv')\n"
     ]
    },
    {
     "data": {
      "text/html": [
       "<div>\n",
       "<style scoped>\n",
       "    .dataframe tbody tr th:only-of-type {\n",
       "        vertical-align: middle;\n",
       "    }\n",
       "\n",
       "    .dataframe tbody tr th {\n",
       "        vertical-align: top;\n",
       "    }\n",
       "\n",
       "    .dataframe thead th {\n",
       "        text-align: right;\n",
       "    }\n",
       "</style>\n",
       "<table border=\"1\" class=\"dataframe\">\n",
       "  <thead>\n",
       "    <tr style=\"text-align: right;\">\n",
       "      <th></th>\n",
       "      <th>transaction_id</th>\n",
       "      <th>targets</th>\n",
       "      <th>transaction_date</th>\n",
       "      <th>account_open_date</th>\n",
       "      <th>transaction_amount</th>\n",
       "      <th>beneficiary</th>\n",
       "      <th>col_0</th>\n",
       "      <th>col_1</th>\n",
       "      <th>col_2</th>\n",
       "      <th>col_3</th>\n",
       "      <th>...</th>\n",
       "      <th>col_106</th>\n",
       "      <th>col_107</th>\n",
       "      <th>col_108</th>\n",
       "      <th>col_109</th>\n",
       "      <th>col_110</th>\n",
       "      <th>col_111</th>\n",
       "      <th>col_112</th>\n",
       "      <th>col_113</th>\n",
       "      <th>col_114</th>\n",
       "      <th>col_115</th>\n",
       "    </tr>\n",
       "  </thead>\n",
       "  <tbody>\n",
       "    <tr>\n",
       "      <th>1293</th>\n",
       "      <td>TRX00001293</td>\n",
       "      <td>0</td>\n",
       "      <td>2021-10-10</td>\n",
       "      <td>2021-03-25</td>\n",
       "      <td>93431.358664</td>\n",
       "      <td>Uma's Tutoring</td>\n",
       "      <td>0.0</td>\n",
       "      <td>True</td>\n",
       "      <td>25.0</td>\n",
       "      <td>0</td>\n",
       "      <td>...</td>\n",
       "      <td>54</td>\n",
       "      <td>1</td>\n",
       "      <td>True</td>\n",
       "      <td>29</td>\n",
       "      <td>0</td>\n",
       "      <td>False</td>\n",
       "      <td>NaN</td>\n",
       "      <td>NaN</td>\n",
       "      <td>0</td>\n",
       "      <td>NaN</td>\n",
       "    </tr>\n",
       "    <tr>\n",
       "      <th>10522</th>\n",
       "      <td>TRX00010522</td>\n",
       "      <td>0</td>\n",
       "      <td>2021-12-02</td>\n",
       "      <td>2021-07-12</td>\n",
       "      <td>50493.433279</td>\n",
       "      <td>Omar's Hunting</td>\n",
       "      <td>0.0</td>\n",
       "      <td>False</td>\n",
       "      <td>27.95</td>\n",
       "      <td>0</td>\n",
       "      <td>...</td>\n",
       "      <td>10</td>\n",
       "      <td>1</td>\n",
       "      <td>False</td>\n",
       "      <td>7</td>\n",
       "      <td>2</td>\n",
       "      <td>False</td>\n",
       "      <td>NaN</td>\n",
       "      <td>NaN</td>\n",
       "      <td>0</td>\n",
       "      <td>26.0</td>\n",
       "    </tr>\n",
       "    <tr>\n",
       "      <th>4879</th>\n",
       "      <td>TRX00004879</td>\n",
       "      <td>0</td>\n",
       "      <td>2021-10-30</td>\n",
       "      <td>2021-06-05</td>\n",
       "      <td>58108.249044</td>\n",
       "      <td>Elvin's Sports Facility</td>\n",
       "      <td>NaN</td>\n",
       "      <td>True</td>\n",
       "      <td>25.0</td>\n",
       "      <td>0</td>\n",
       "      <td>...</td>\n",
       "      <td>0</td>\n",
       "      <td>1</td>\n",
       "      <td>False</td>\n",
       "      <td>0</td>\n",
       "      <td>1</td>\n",
       "      <td>False</td>\n",
       "      <td>NaN</td>\n",
       "      <td>NaN</td>\n",
       "      <td>0</td>\n",
       "      <td>0.0</td>\n",
       "    </tr>\n",
       "    <tr>\n",
       "      <th>7047</th>\n",
       "      <td>TRX00007047</td>\n",
       "      <td>0</td>\n",
       "      <td>2021-11-11</td>\n",
       "      <td>2021-04-13</td>\n",
       "      <td>51468.713565</td>\n",
       "      <td>Hans's Consulting</td>\n",
       "      <td>0.0</td>\n",
       "      <td>True</td>\n",
       "      <td>17.66</td>\n",
       "      <td>2</td>\n",
       "      <td>...</td>\n",
       "      <td>0</td>\n",
       "      <td>1</td>\n",
       "      <td>False</td>\n",
       "      <td>0</td>\n",
       "      <td>0</td>\n",
       "      <td>False</td>\n",
       "      <td>NaN</td>\n",
       "      <td>NaN</td>\n",
       "      <td>0</td>\n",
       "      <td>3.0</td>\n",
       "    </tr>\n",
       "    <tr>\n",
       "      <th>5513</th>\n",
       "      <td>TRX00005513</td>\n",
       "      <td>0</td>\n",
       "      <td>2021-11-03</td>\n",
       "      <td>2021-04-05</td>\n",
       "      <td>50940.716430</td>\n",
       "      <td>Xena's Food Processing</td>\n",
       "      <td>NaN</td>\n",
       "      <td>True</td>\n",
       "      <td>15.1</td>\n",
       "      <td>0</td>\n",
       "      <td>...</td>\n",
       "      <td>0</td>\n",
       "      <td>1</td>\n",
       "      <td>False</td>\n",
       "      <td>0</td>\n",
       "      <td>0</td>\n",
       "      <td>False</td>\n",
       "      <td>NaN</td>\n",
       "      <td>NaN</td>\n",
       "      <td>0</td>\n",
       "      <td>NaN</td>\n",
       "    </tr>\n",
       "  </tbody>\n",
       "</table>\n",
       "<p>5 rows × 122 columns</p>\n",
       "</div>"
      ],
      "text/plain": [
       "      transaction_id  targets transaction_date account_open_date  \\\n",
       "1293     TRX00001293        0       2021-10-10        2021-03-25   \n",
       "10522    TRX00010522        0       2021-12-02        2021-07-12   \n",
       "4879     TRX00004879        0       2021-10-30        2021-06-05   \n",
       "7047     TRX00007047        0       2021-11-11        2021-04-13   \n",
       "5513     TRX00005513        0       2021-11-03        2021-04-05   \n",
       "\n",
       "       transaction_amount              beneficiary  col_0  col_1  col_2  \\\n",
       "1293         93431.358664           Uma's Tutoring    0.0   True   25.0   \n",
       "10522        50493.433279           Omar's Hunting    0.0  False  27.95   \n",
       "4879         58108.249044  Elvin's Sports Facility    NaN   True   25.0   \n",
       "7047         51468.713565        Hans's Consulting    0.0   True  17.66   \n",
       "5513         50940.716430   Xena's Food Processing    NaN   True   15.1   \n",
       "\n",
       "       col_3  ...  col_106  col_107  col_108 col_109  col_110  col_111  \\\n",
       "1293       0  ...       54        1     True      29        0    False   \n",
       "10522      0  ...       10        1    False       7        2    False   \n",
       "4879       0  ...        0        1    False       0        1    False   \n",
       "7047       2  ...        0        1    False       0        0    False   \n",
       "5513       0  ...        0        1    False       0        0    False   \n",
       "\n",
       "       col_112  col_113  col_114  col_115  \n",
       "1293       NaN      NaN        0      NaN  \n",
       "10522      NaN      NaN        0     26.0  \n",
       "4879       NaN      NaN        0      0.0  \n",
       "7047       NaN      NaN        0      3.0  \n",
       "5513       NaN      NaN        0      NaN  \n",
       "\n",
       "[5 rows x 122 columns]"
      ]
     },
     "execution_count": 2,
     "metadata": {},
     "output_type": "execute_result"
    }
   ],
   "source": [
    "transaction_df = pd.read_csv('sample_transaction_data.csv')\n",
    "transaction_df = transaction_df.sample(frac=1)\n",
    "transaction_df.head()"
   ]
  },
  {
   "cell_type": "markdown",
   "id": "6ff11be0-ac53-44a6-a3ab-333fcf15e8a5",
   "metadata": {},
   "source": [
    "It seems like there are many non-descript columns (col_0,...,col115). The words in each **beneficiary** entry indicate the type of business, which could be predictive of fraud. \n",
    "\n",
    "There are many missing values + other errors in col_0 - col_115. Lets understand the composition of the cols."
   ]
  },
  {
   "cell_type": "markdown",
   "id": "89878807-73bf-47fa-a126-d1828343f225",
   "metadata": {},
   "source": [
    "### Remove distracting columns/ duplicate rows.\n",
    "Filter out cols with one unique non-nan entry because they aren't likely to be useful."
   ]
  },
  {
   "cell_type": "code",
   "execution_count": 4,
   "id": "50a4b18b-f552-4445-a318-c837f1d93847",
   "metadata": {},
   "outputs": [],
   "source": [
    "transaction_df.drop_duplicates(inplace=True)\n",
    "for c in transaction_df.columns:\n",
    "    if len(transaction_df[c].dropna().drop_duplicates())<=1:\n",
    "        transaction_df.drop(columns = [c],inplace= True)"
   ]
  },
  {
   "cell_type": "code",
   "execution_count": 15,
   "id": "2c916b39-6c32-4cf6-8bdc-10808d7802db",
   "metadata": {},
   "outputs": [
    {
     "data": {
      "text/plain": [
       "13758    1\n",
       "14541    0\n",
       "Name: col_107, dtype: int64"
      ]
     },
     "execution_count": 15,
     "metadata": {},
     "output_type": "execute_result"
    }
   ],
   "source": [
    "transaction_df['col_107'].drop_duplicates()"
   ]
  },
  {
   "cell_type": "markdown",
   "id": "1596c21c-79d7-4e17-b36f-fbb5ac165391",
   "metadata": {},
   "source": [
    "### Understand unnamed columns\n",
    "Group by dtype."
   ]
  },
  {
   "cell_type": "code",
   "execution_count": 6,
   "id": "0eb4093f-8e89-4bab-aa01-fff1ad432f4b",
   "metadata": {},
   "outputs": [
    {
     "name": "stdout",
     "output_type": "stream",
     "text": [
      "col_* data types: {dtype('bool'), dtype('int64'), dtype('O'), dtype('float64')}\n",
      "dtype object columns ['col_2', 'col_7', 'col_15', 'col_30', 'col_40']\n"
     ]
    },
    {
     "data": {
      "text/html": [
       "<div>\n",
       "<style scoped>\n",
       "    .dataframe tbody tr th:only-of-type {\n",
       "        vertical-align: middle;\n",
       "    }\n",
       "\n",
       "    .dataframe tbody tr th {\n",
       "        vertical-align: top;\n",
       "    }\n",
       "\n",
       "    .dataframe thead th {\n",
       "        text-align: right;\n",
       "    }\n",
       "</style>\n",
       "<table border=\"1\" class=\"dataframe\">\n",
       "  <thead>\n",
       "    <tr style=\"text-align: right;\">\n",
       "      <th></th>\n",
       "      <th>col_2</th>\n",
       "      <th>col_7</th>\n",
       "      <th>col_15</th>\n",
       "      <th>col_30</th>\n",
       "      <th>col_40</th>\n",
       "    </tr>\n",
       "  </thead>\n",
       "  <tbody>\n",
       "    <tr>\n",
       "      <th>1293</th>\n",
       "      <td>25.0</td>\n",
       "      <td>C</td>\n",
       "      <td>BL0</td>\n",
       "      <td>US</td>\n",
       "      <td>Product_1</td>\n",
       "    </tr>\n",
       "    <tr>\n",
       "      <th>10522</th>\n",
       "      <td>27.95</td>\n",
       "      <td>C</td>\n",
       "      <td>BL0</td>\n",
       "      <td>US</td>\n",
       "      <td>Product_0</td>\n",
       "    </tr>\n",
       "    <tr>\n",
       "      <th>4879</th>\n",
       "      <td>25.0</td>\n",
       "      <td>C</td>\n",
       "      <td>BL0</td>\n",
       "      <td>US</td>\n",
       "      <td>Product_0</td>\n",
       "    </tr>\n",
       "    <tr>\n",
       "      <th>7047</th>\n",
       "      <td>17.66</td>\n",
       "      <td>E</td>\n",
       "      <td>BL0</td>\n",
       "      <td>US</td>\n",
       "      <td>Product_9</td>\n",
       "    </tr>\n",
       "    <tr>\n",
       "      <th>5513</th>\n",
       "      <td>15.1</td>\n",
       "      <td>A</td>\n",
       "      <td>BL1</td>\n",
       "      <td>US</td>\n",
       "      <td>Product_7</td>\n",
       "    </tr>\n",
       "  </tbody>\n",
       "</table>\n",
       "</div>"
      ],
      "text/plain": [
       "       col_2 col_7 col_15 col_30     col_40\n",
       "1293    25.0     C    BL0     US  Product_1\n",
       "10522  27.95     C    BL0     US  Product_0\n",
       "4879    25.0     C    BL0     US  Product_0\n",
       "7047   17.66     E    BL0     US  Product_9\n",
       "5513    15.1     A    BL1     US  Product_7"
      ]
     },
     "execution_count": 6,
     "metadata": {},
     "output_type": "execute_result"
    }
   ],
   "source": [
    "#list data types\n",
    "col_x =  [c for c in transaction_df.columns if c[:4]=='col_']\n",
    "print('col_* data types:',set(transaction_df[c].dtype for c in col_x))\n",
    "\n",
    "print('dtype object columns',[c  for c in col_x if transaction_df[c].dtype is np.dtype('O')])\n",
    "transaction_df[[c  for c in col_x if transaction_df[c].dtype is np.dtype('O')]].head()"
   ]
  },
  {
   "cell_type": "markdown",
   "id": "ad588928-6148-4d63-a1f0-65bb44100012",
   "metadata": {},
   "source": [
    "### Object type columns\n",
    "Identify those to convert to numeric. Relabel columns. Plot histograms."
   ]
  },
  {
   "cell_type": "code",
   "execution_count": 7,
   "id": "e54475f8-d060-4217-a152-3bca1938d10a",
   "metadata": {},
   "outputs": [
    {
     "name": "stdout",
     "output_type": "stream",
     "text": [
      "col_2 has 338 / 15781 non numeric\n"
     ]
    }
   ],
   "source": [
    "print('col_2 has', sum(pd.to_numeric(transaction_df.col_2,errors='coerce').isna()),'/',len(transaction_df),'non numeric')\n",
    "transaction_df.col_2 = pd.to_numeric(transaction_df.col_2,errors='coerce')\n",
    "transaction_df.rename(columns = {'col_30':'country'},inplace = True)\n",
    "\n",
    "#transaction_df.col_40.drop_duplicates()\n",
    "#transaction_df.col_7.drop_duplicates()\n",
    "#transaction_df.col_15.drop_duplicates()\n",
    "#transaction_df.col_30.drop_duplicates()\n"
   ]
  },
  {
   "cell_type": "markdown",
   "id": "ab09f5e0-b5e0-49fc-b585-340c64751ff4",
   "metadata": {},
   "source": [
    "Col 7,15, 40 have only several string values. \n",
    "Col2 convert to numeric, col30 rename country. All businesses have names in English so I think the country column is the origin."
   ]
  },
  {
   "cell_type": "code",
   "execution_count": 18,
   "id": "39778c6e-8064-48b3-96e9-315107db4458",
   "metadata": {},
   "outputs": [
    {
     "data": {
      "text/html": [
       "<div>\n",
       "<style scoped>\n",
       "    .dataframe tbody tr th:only-of-type {\n",
       "        vertical-align: middle;\n",
       "    }\n",
       "\n",
       "    .dataframe tbody tr th {\n",
       "        vertical-align: top;\n",
       "    }\n",
       "\n",
       "    .dataframe thead th {\n",
       "        text-align: right;\n",
       "    }\n",
       "</style>\n",
       "<table border=\"1\" class=\"dataframe\">\n",
       "  <thead>\n",
       "    <tr style=\"text-align: right;\">\n",
       "      <th></th>\n",
       "      <th>beneficiary</th>\n",
       "    </tr>\n",
       "  </thead>\n",
       "  <tbody>\n",
       "    <tr>\n",
       "      <th>9452</th>\n",
       "      <td>Pedro's Forestry</td>\n",
       "    </tr>\n",
       "    <tr>\n",
       "      <th>1298</th>\n",
       "      <td>Alvin's Exteriors</td>\n",
       "    </tr>\n",
       "    <tr>\n",
       "      <th>6078</th>\n",
       "      <td>Ivan's Construction</td>\n",
       "    </tr>\n",
       "    <tr>\n",
       "      <th>4020</th>\n",
       "      <td>Jones's Forestry</td>\n",
       "    </tr>\n",
       "    <tr>\n",
       "      <th>12261</th>\n",
       "      <td>Zach's Wholesale</td>\n",
       "    </tr>\n",
       "  </tbody>\n",
       "</table>\n",
       "</div>"
      ],
      "text/plain": [
       "               beneficiary\n",
       "9452      Pedro's Forestry\n",
       "1298     Alvin's Exteriors\n",
       "6078   Ivan's Construction\n",
       "4020      Jones's Forestry\n",
       "12261     Zach's Wholesale"
      ]
     },
     "execution_count": 18,
     "metadata": {},
     "output_type": "execute_result"
    }
   ],
   "source": [
    "transaction_df.loc[list(transaction_df.country == 'JP'),['beneficiary']].head()"
   ]
  },
  {
   "cell_type": "markdown",
   "id": "eaff70c7-8007-4efe-a391-c3351deff5df",
   "metadata": {},
   "source": [
    "# 2. Basic Analysis\n",
    "\n",
    "## a. Country, categorical variables and fraud\n",
    "\n",
    "Estimate the rate of fraud for each categorical variable found above: $$\\hat{p}_{\\mbox{country,category}} = \\frac{\\mbox{#fraud in category and country}}{\\mbox{#country and category}}.$$ Confidence intervals are plotted to show before any model is applied, we have enough data to differentiate fraud rates between countries, and between some country fraud pairs. Fraud rates in the US are usually statistically significant because the number of samples in each category tend to be on the order of 1000. Lines spanning the entire height are from there being no frauds (no point), or all transactions = fraud (point at y=1)."
   ]
  },
  {
   "cell_type": "code",
   "execution_count": 8,
   "id": "3fb534a7-1e49-4c42-ae8d-a60c6a32a0bc",
   "metadata": {},
   "outputs": [
    {
     "name": "stderr",
     "output_type": "stream",
     "text": [
      "C:\\Users\\cassi\\AppData\\Local\\Temp\\ipykernel_6372\\2945982139.py:27: UserWarning: Attempted to set non-positive bottom ylim on a log-scaled axis.\n",
      "Invalid limit will be ignored.\n",
      "  ax[j%2,j//2].set_ylim([0,1])\n",
      "C:\\Users\\cassi\\AppData\\Local\\Temp\\ipykernel_6372\\2945982139.py:30: UserWarning: FixedFormatter should only be used together with FixedLocator\n",
      "  ax[j%2,j//2].set_xticklabels(amt_col_fraud.country_col,rotation=-90)\n",
      "C:\\Users\\cassi\\AppData\\Local\\Temp\\ipykernel_6372\\2945982139.py:27: UserWarning: Attempted to set non-positive bottom ylim on a log-scaled axis.\n",
      "Invalid limit will be ignored.\n",
      "  ax[j%2,j//2].set_ylim([0,1])\n",
      "C:\\Users\\cassi\\AppData\\Local\\Temp\\ipykernel_6372\\2945982139.py:30: UserWarning: FixedFormatter should only be used together with FixedLocator\n",
      "  ax[j%2,j//2].set_xticklabels(amt_col_fraud.country_col,rotation=-90)\n",
      "C:\\Users\\cassi\\AppData\\Local\\Temp\\ipykernel_6372\\2945982139.py:27: UserWarning: Attempted to set non-positive bottom ylim on a log-scaled axis.\n",
      "Invalid limit will be ignored.\n",
      "  ax[j%2,j//2].set_ylim([0,1])\n",
      "C:\\Users\\cassi\\AppData\\Local\\Temp\\ipykernel_6372\\2945982139.py:30: UserWarning: FixedFormatter should only be used together with FixedLocator\n",
      "  ax[j%2,j//2].set_xticklabels(amt_col_fraud.country_col,rotation=-90)\n",
      "C:\\Users\\cassi\\AppData\\Local\\Temp\\ipykernel_6372\\2945982139.py:27: UserWarning: Attempted to set non-positive bottom ylim on a log-scaled axis.\n",
      "Invalid limit will be ignored.\n",
      "  ax[j%2,j//2].set_ylim([0,1])\n",
      "C:\\Users\\cassi\\AppData\\Local\\Temp\\ipykernel_6372\\2945982139.py:30: UserWarning: FixedFormatter should only be used together with FixedLocator\n",
      "  ax[j%2,j//2].set_xticklabels(amt_col_fraud.country_col,rotation=-90)\n"
     ]
    },
    {
     "data": {
      "image/png": "[encoded data removed]",
      "text/plain": [
       "<Figure size 1080x720 with 4 Axes>"
      ]
     },
     "metadata": {
      "needs_background": "light"
     },
     "output_type": "display_data"
    }
   ],
   "source": [
    "transaction_df[' ']='' # convenient place holder so we can plot country. \n",
    "f,ax = plt.subplots(2,2,figsize = (15,10))\n",
    "for j, col in enumerate([' ','col_7', 'col_15', 'col_40']):\n",
    "    amt_col_fraud = transaction_df[['targets','country',col]].\\\n",
    "    groupby(by = ['country',col],as_index=False).sum()\n",
    "    amt_col_fraud = amt_col_fraud.merge(transaction_df[['targets','country',col]].\\\n",
    "    groupby(by = ['country',col],as_index=False).size(),on = ['country',col])\n",
    "    countries = transaction_df.country.drop_duplicates()\n",
    "    amt_col_fraud.sort_values(by=['country',col],inplace = True)\n",
    "    amt_col_fraud['p_fraud']=amt_col_fraud['targets']/amt_col_fraud['size']\n",
    "\n",
    "    amt_col_fraud['errors'] = np.sqrt(amt_col_fraud.p_fraud * (1-amt_col_fraud.p_fraud)/amt_col_fraud['size'])\n",
    "    \n",
    "    amt_col_fraud.loc[amt_col_fraud.p_fraud==1,['errors']] = 1\n",
    "    amt_col_fraud.loc[amt_col_fraud.p_fraud==0,['errors']] = 1\n",
    "\n",
    "    amt_col_fraud['country_col']=amt_col_fraud.apply(lambda r: r.country+', '+r[col],axis=1)\n",
    "    amt_col_fraud.plot.scatter(x='country_col',y='p_fraud',color='k',label='#fraud/#transactions',s=50, ax = ax[j%2,j//2])\n",
    "    for i in range(len(amt_col_fraud)):\n",
    "        if i ==0:\n",
    "            ax[j%2,j//2].plot([i,i],[amt_col_fraud.p_fraud[i] - 2*amt_col_fraud.errors[i], \n",
    "                           amt_col_fraud.p_fraud[i] +  2*amt_col_fraud.errors[i]],c='b',label='95% CI (Wald)')\n",
    "        else:\n",
    "            ax[j%2,j//2].plot([i,i],[amt_col_fraud.p_fraud[i] - 2*amt_col_fraud.errors[i], \n",
    "                           amt_col_fraud.p_fraud[i] +  2*amt_col_fraud.errors[i]],c='b')\n",
    "    ax[j%2,j//2].set_yscale('log')\n",
    "    ax[j%2,j//2].set_ylim([0,1])\n",
    "    ax[j%2,j//2].set_ylabel('estimated fraud rate',fontsize=10)\n",
    "    ax[j%2,j//2].set_xlabel('country, '+col,fontsize=10)\n",
    "    ax[j%2,j//2].set_xticklabels(amt_col_fraud.country_col,rotation=-90)\n",
    "    ax[j%2,j//2].set_title('(# targets/ # transactions) for ' +col + ',country',fontsize=10)\n",
    "    ax[j%2,j//2].legend()\n",
    "f.tight_layout()\n",
    "transaction_df.drop(columns = [' '],inplace = True)"
   ]
  },
  {
   "cell_type": "markdown",
   "id": "2d45c03e-ee6b-46d6-96e7-89b1b4ce36e7",
   "metadata": {},
   "source": [
    "## b. Numeric columns\n",
    "\n",
    "### Missing data, range, sparsity\n",
    "\n",
    "* **Missing data** Plot the histogram of amt nan. We choose 4% nan as a cut off to filter out in the analysis of numeric data. Later on we will look expand the set and impute the nans. \n",
    "\n",
    "* **Range** All of the variables are non-negative. \n",
    "\n",
    "* **Sparsity** We calculate fraction nonzero elements for each of the low-nan-count columns to charactarize the sparsity/density of the values.\n"
   ]
  },
  {
   "cell_type": "code",
   "execution_count": 9,
   "id": "34c152dd-b657-474d-b5ec-55c4726514d1",
   "metadata": {},
   "outputs": [
    {
     "name": "stdout",
     "output_type": "stream",
     "text": [
      "Are there any negative values in the data: False\n"
     ]
    }
   ],
   "source": [
    "col_numeric = transaction_df.select_dtypes(np.number).columns\n",
    "N_numeric = len(transaction_df.select_dtypes(np.number).columns)\n",
    "print('Are there any negative values in the data:', (transaction_df[col_numeric]<0).any().any())"
   ]
  },
  {
   "cell_type": "code",
   "execution_count": 38,
   "id": "79bb0603-e27f-4743-a5ad-340b7638f601",
   "metadata": {},
   "outputs": [
    {
     "name": "stdout",
     "output_type": "stream",
     "text": [
      "In the low-nan columns, dropping nan retains: 1.0\n"
     ]
    },
    {
     "ename": "TypeError",
     "evalue": "'AxesSubplot' object is not subscriptable",
     "output_type": "error",
     "traceback": [
      "\u001b[1;31m---------------------------------------------------------------------------\u001b[0m",
      "\u001b[1;31mTypeError\u001b[0m                                 Traceback (most recent call last)",
      "Input \u001b[1;32mIn [38]\u001b[0m, in \u001b[0;36m<cell line: 23>\u001b[1;34m()\u001b[0m\n\u001b[0;32m     20\u001b[0m col_low_nan_nnz \u001b[38;5;241m=\u001b[39m col_low_nan_nnz[col_low_nan_nnz\u001b[38;5;241m.\u001b[39mindex\u001b[38;5;241m!=\u001b[39m\u001b[38;5;124m'\u001b[39m\u001b[38;5;124mtargets\u001b[39m\u001b[38;5;124m'\u001b[39m]\n\u001b[0;32m     22\u001b[0m plt\u001b[38;5;241m.\u001b[39mfigure()\n\u001b[1;32m---> 23\u001b[0m col_low_nan_nnz\u001b[38;5;241m.\u001b[39mplot\u001b[38;5;241m.\u001b[39mhist(bins\u001b[38;5;241m=\u001b[39m\u001b[38;5;241m50\u001b[39m, ax \u001b[38;5;241m=\u001b[39m \u001b[43max\u001b[49m\u001b[43m[\u001b[49m\u001b[38;5;241;43m1\u001b[39;49m\u001b[43m]\u001b[49m,label\u001b[38;5;241m=\u001b[39m\u001b[38;5;124m'\u001b[39m\u001b[38;5;124m# cols with fraction x nonzero\u001b[39m\u001b[38;5;124m'\u001b[39m)\n\u001b[0;32m     24\u001b[0m ax[\u001b[38;5;241m1\u001b[39m]\u001b[38;5;241m.\u001b[39mset_title(\u001b[38;5;124m'\u001b[39m\u001b[38;5;124mhistogram count of nonzero values (for low-nan columns)\u001b[39m\u001b[38;5;124m'\u001b[39m,fontsize\u001b[38;5;241m=\u001b[39m\u001b[38;5;241m20\u001b[39m)\n\u001b[0;32m     25\u001b[0m ax[\u001b[38;5;241m1\u001b[39m]\u001b[38;5;241m.\u001b[39mset_xlabel(\u001b[38;5;124m'\u001b[39m\u001b[38;5;124mfraction nonzero\u001b[39m\u001b[38;5;124m'\u001b[39m,fontsize\u001b[38;5;241m=\u001b[39m\u001b[38;5;241m20\u001b[39m)\n",
      "\u001b[1;31mTypeError\u001b[0m: 'AxesSubplot' object is not subscriptable"
     ]
    },
    {
     "data": {
      "image/png": "[encoded data removed]",
      "text/plain": [
       "<Figure size 648x504 with 1 Axes>"
      ]
     },
     "metadata": {},
     "output_type": "display_data"
    },
    {
     "data": {
      "text/plain": [
       "<Figure size 432x288 with 0 Axes>"
      ]
     },
     "metadata": {},
     "output_type": "display_data"
    }
   ],
   "source": [
    "#which numeric columns ae sparse.\n",
    "\n",
    "\n",
    "col_num_frac_nan = transaction_df.select_dtypes(np.number).apply(lambda x: sum(x.isna())/len(transaction_df),axis=0)\n",
    "f,ax = plt.subplots(1,1,figsize=(9,7))\n",
    "\n",
    "ax.axvline(.04,c = 'k',label = '4% NA')\n",
    "\n",
    "ax.legend(fontsize = 20)\n",
    "ax.set_title('cumulative histogram fraction NA for numeric features',fontsize=20)\n",
    "col_num_frac_nan.plot.hist(bins=100,ax = ax,cumulative = True)\n",
    "ax.set_xlabel('fraction NA',fontsize=20)\n",
    "ax.set_ylabel('# columns',fontsize=20)\n",
    "low_nan_columns = list(col_num_frac_nan[col_num_frac_nan<.04].index)\n",
    "\n",
    "transaction_df_low_nan = transaction_df[low_nan_columns]\n",
    "print('In the low-nan columns, dropping nan retains:', len(transaction_df_low_nan)/len(transaction_df))\n",
    "\n",
    "col_low_nan_nnz = transaction_df_low_nan.apply(lambda x: sum(np.abs(x)>0)/len(transaction_df),axis=0)\n",
    "col_low_nan_nnz = col_low_nan_nnz[col_low_nan_nnz.index!='targets']\n",
    "\n",
    "plt.figure()\n",
    "col_low_nan_nnz.plot.hist(bins=50, ax = ax[1],label='# cols with fraction x nonzero')\n",
    "ax[1].set_title('histogram count of nonzero values (for low-nan columns)',fontsize=20)\n",
    "ax[1].set_xlabel('fraction nonzero',fontsize=20)\n",
    "ax[1].set_ylabel('frequency',fontsize=20)\n",
    "ax[1].legend()\n",
    "col_low_nan_nnz.sort_values(ascending=False,inplace = True)\n",
    "#f.tight_layout()\n",
    "print(col_low_nan_nnz[:10])\n"
   ]
  },
  {
   "cell_type": "code",
   "execution_count": 41,
   "id": "790ccf90-d90c-4816-a80a-f10af697b6b8",
   "metadata": {},
   "outputs": [
    {
     "data": {
      "text/plain": [
       "0.8924022558773208"
      ]
     },
     "execution_count": 41,
     "metadata": {},
     "output_type": "execute_result"
    }
   ],
   "source": [
    "col_num_frac_nan.max()"
   ]
  },
  {
   "cell_type": "markdown",
   "id": "bc826b75-62e5-4c63-a1fb-6427af367f9d",
   "metadata": {},
   "source": [
    "## c. Visualizing numeric data\n",
    "Most variables have significant mass distributed over many orders of magnitude. It is best to take the log before exploring the data (adding 1 to handle 0's). We also center and scale the numeric values. Plotted below are normalized histograms of the fraud, and non-fraud data for some columns. The means and standard deviations are shown to give an idea of fraud probablity inferred from the value in a column. The separation between fraud and non-fraud distributions in a high # of dimensions, categorical data, and more complex patters suggest this dataset is useful for fraud detection. "
   ]
  },
  {
   "cell_type": "code",
   "execution_count": 23,
   "id": "c25f6817-abea-4fc4-8cf3-daa918f65433",
   "metadata": {},
   "outputs": [
    {
     "data": {
      "image/png": "[encoded data removed]",
      "text/plain": [
       "<Figure size 720x1728 with 6 Axes>"
      ]
     },
     "metadata": {
      "needs_background": "light"
     },
     "output_type": "display_data"
    }
   ],
   "source": [
    "from sklearn.impute import KNNImputer\n",
    "from LogScaler import LogScaler\n",
    "\n",
    "# test it out:\n",
    "imputer = KNNImputer(n_neighbors=5, weights=\"uniform\")\n",
    "cols = col_low_nan_nnz[[2,7,5]].index\n",
    "\n",
    "test_data = transaction_df_low_nan[cols].to_numpy()\n",
    "imputed_data = imputer.fit_transform(test_data)\n",
    "\n",
    "scaler = LogScaler(imputed_data)\n",
    "scaled_data = scaler.transform(imputed_data)\n",
    "\n",
    "f,ax = plt.subplots(2*len(cols),1,figsize=(10,8*len(cols)))\n",
    "for i in range(len(cols)):\n",
    "    ax[2*i].hist(scaled_data[transaction_df_low_nan.targets==0,i],bins=50,density=True,histtype='step',label = 'non-fraud',color='k')\n",
    "    ax[2*i].hist(scaled_data[transaction_df_low_nan.targets==1,i],bins=50,density=True,histtype='step',label = 'fraud',color='b')\n",
    "    ax[2*i+1].hist(scaled_data[transaction_df_low_nan.targets==0,i],bins=50,histtype='step',label = 'non-fraud',color='k')\n",
    "    ax[2*i+1].hist(scaled_data[transaction_df_low_nan.targets==1,i],bins=50,histtype='step',label = 'fraud',color='b')\n",
    "    \n",
    "    ax[2*i].set_title(cols[i]+' histogram (normalized to 1)')\n",
    "    ax[2*i+1].set_title(cols[i]+' histogram (counts)')\n",
    "    if i==0:\n",
    "        ax[2*i].plot([scaled_data[transaction_df_low_nan.targets==0,i].mean(),scaled_data[transaction_df_low_nan.targets==0,i].mean()],\n",
    "                   [0,.8],c='k',label = 'mean')\n",
    "        ax[2*i].plot([scaled_data[transaction_df_low_nan.targets==1,i].mean(),scaled_data[transaction_df_low_nan.targets==1,i].mean()],\n",
    "                   [0,.8],c='b',label = 'mean')\n",
    "        sd0 = scaled_data[transaction_df_low_nan.targets==0,i].std()\n",
    "        sd1 = scaled_data[transaction_df_low_nan.targets==1,i].std()\n",
    "        ax[2*i].plot([scaled_data[transaction_df_low_nan.targets==1,i].mean()-2*sd1,\n",
    "                    scaled_data[transaction_df_low_nan.targets==1,i].mean()-2*sd1],[0,.8],c='b',linestyle = ':',label='2 std')\n",
    "        ax[2*i].plot([scaled_data[transaction_df_low_nan.targets==1,i].mean()+2*sd1,\n",
    "                    scaled_data[transaction_df_low_nan.targets==1,i].mean()+2*sd1],[0,.8],c='b',linestyle = ':')\n",
    "        ax[2*i].plot([scaled_data[transaction_df_low_nan.targets==0,i].mean()-2*sd0,\n",
    "                    scaled_data[transaction_df_low_nan.targets==0,i].mean()-2*sd0],[0,.8],c='k',linestyle = ':',label='2 std')\n",
    "        ax[2*i].plot([scaled_data[transaction_df_low_nan.targets==0,i].mean()+2*sd0,\n",
    "                    scaled_data[transaction_df_low_nan.targets==0,i].mean()+2*sd0],[0,.8],c='k',linestyle = ':')\n",
    "    ax[2*i].legend()\n",
    "f.tight_layout()"
   ]
  },
  {
   "cell_type": "markdown",
   "id": "977bacf0-3ae1-42eb-b716-c1f26414594f",
   "metadata": {},
   "source": [
    "## Boolean data\n",
    "The boolean rows do not contain nan."
   ]
  },
  {
   "cell_type": "code",
   "execution_count": 951,
   "id": "96117d3d-304a-42e9-8ae2-39691fe9f6c6",
   "metadata": {},
   "outputs": [
    {
     "data": {
      "text/plain": [
       "False"
      ]
     },
     "execution_count": 951,
     "metadata": {},
     "output_type": "execute_result"
    }
   ],
   "source": [
    "transaction_df.select_dtypes(np.dtype('bool')).isna().any().any()\n"
   ]
  },
  {
   "cell_type": "markdown",
   "id": "5d42225e-9815-4d62-ba0e-b6f6c3ccdccf",
   "metadata": {},
   "source": [
    "# 3. Classification algorithm\n",
    "* **ML Algorithm**: Random forests\n",
    "* **Performance metric**: Start from total \\$ amount saved by our fraud detection (**net dollars saved** over positive results) : \n",
    "    $\\sum_{\\mbox{positive }i} \\mathbf{1}_{\\mbox{fraud}}\\times \\mbox{transaction amt i} - \\sum_{\\mbox{positive }i} \\mathbf{1}_{\\mbox{non-fraud}}\\times 200\n",
    "    =\\sum_{\\mbox{positive }i} \\mathbf{1}_{\\mbox{fraud}}\\times \\mbox{transaction amt i}\n",
    "    - \\#\\mbox{false positive}\\times  200$.\n",
    "    * **%dollars saved** = (total dollars saved)/(sum of all transaction amt). This is the multiplicative factor we get from running our model and can be used in projections and budgeting.\n",
    "    * **net dollars saved per transaction** - net dollars saved/# data points.\n",
    "    * **false positive rate** - probability a non-fraudulent transaction is labeled fradulent.\n",
    "    * **precision** # true positive frauds/# all labeled fraud. This is an unweighted measure of the benefit of each positive result.\n",
    "    \n",
    "* **Imputing data**: We will cross validate progressively imputing values in columns with higher nan.  \n",
    "    * **bench mark the data imputation** cross validate the imputation method by holding out data as nan. How closely does imputation resemble real data.\n",
    "\n",
    "* **New features**: Time between account creation and transaction. Split business names. Certain beneficiary labels can have higher association with fraud. \n",
    "\n",
    "## A. Model hyperparameters\n",
    "\n",
    "We define a class preprocessor class to store some hyper parameters:\n",
    "* Threshold for max % nan in a column.\n",
    "* The number of of neighbors for knn imputation of nan\n",
    "* Use length of time from acct creation to transaction?\n",
    "* use words found in the beneficiary label.\n",
    "\n",
    "Model parameters:\n",
    "* number of trees in the random forest.\n",
    "* Cut-off probability for labelling a transaction as fraud.\n",
    "\n",
    "### Calibration.\n",
    "* Calibrate our model using 80 - 20 test-train split.\n",
    "* Search for hyperparameters using random search.\n",
    "* We benchmark the best model on a separate 20% split.\n",
    "\n",
    "\n"
   ]
  },
  {
   "cell_type": "code",
   "execution_count": 26,
   "id": "43567714-00a3-4076-adee-d3c08ef33072",
   "metadata": {},
   "outputs": [],
   "source": [
    "from sklearn.preprocessing import LabelEncoder\n",
    "from sklearn.preprocessing import OneHotEncoder\n",
    "from sklearn.feature_extraction.text import CountVectorizer\n",
    "from sklearn.ensemble import RandomForestClassifier\n",
    "import copy\n",
    "class FraudPreprocessor(): #fixed set of preprocessing options for easy tinkering\n",
    "    def __init__(self, \n",
    "                 nan_threshold = .04,\n",
    "                 knn_k = 2, #k for k nearest neighbor imputer\n",
    "                 date_differences = True, # difference between transaction and account creation. \n",
    "                 parse_beneficiary = True,\n",
    "                ):\n",
    "        col_num_frac_nan = transaction_df.select_dtypes(np.number).apply(lambda x: sum(x.isna())/len(transaction_df),axis=0)\n",
    "        self.nan_threshold = nan_threshold\n",
    "        self.knn_k = knn_k\n",
    "        self.date_differences = date_differences\n",
    "        self.parse_beneficiary = parse_beneficiary\n",
    "    def fit_train(self,X): # apply to dataframe\n",
    "        if self.date_differences:\n",
    "            X = copy.copy(X)\n",
    "            X.loc[:,'transaction_date'] = pd.to_datetime(X.transaction_date)\n",
    "            X.loc[:,'account_open_date'] = pd.to_datetime(X.account_open_date)\n",
    "            X['acct_age'] = (X.transaction_date - X.account_open_date).dt.days\n",
    "        X.loc[list(X.acct_age.isna()),['acct_age']] = X.loc[list(X.acct_age.isna()==False),['acct_age']].mean()\n",
    "\n",
    "        self.col_num_frac_nan = X.select_dtypes(np.number).apply(lambda x: sum(x.isna())/len(X),axis=0).sort_values()\n",
    "        self.low_nan_numeric = self.col_num_frac_nan[self.col_num_frac_nan <= self.nan_threshold].index\n",
    "        #print(self.low_nan_numeric)\n",
    "        self.nan_imputer = KNNImputer(n_neighbors=self.knn_k, weights=\"uniform\")\n",
    "        self.nan_imputer.fit(X[self.low_nan_numeric])\n",
    "    def fit_label_encoders(self,X): # sort of messy, but it is necessary\n",
    "        if self.parse_beneficiary:\n",
    "            self.cv = CountVectorizer() # for beneficiary strings\n",
    "            self.cv.fit(X.beneficiary)\n",
    "        \n",
    "        col_x =  [c for c in transaction_df.columns if c[:4]=='col_']\n",
    "        self.obj_columns = [c  for c in col_x if X[c].dtype is np.dtype('O')] + ['country']\n",
    "        self.obj_encoders = {c:OneHotEncoder() for c in self.obj_columns}\n",
    "        for k in self.obj_encoders.keys():\n",
    "            self.obj_encoders[k].fit(X[k].to_numpy().reshape((-1,1)))\n",
    "    \n",
    "    def transform(self,X):\n",
    "        X = copy.copy(X)\n",
    "        if self.date_differences:\n",
    "            \n",
    "            X.loc[:,'transaction_date'] = pd.to_datetime(X.transaction_date)\n",
    "            X.loc[:,'account_open_date'] = pd.to_datetime(X.account_open_date)\n",
    "            X['acct_age'] = (X.transaction_date - X.account_open_date).dt.days\n",
    "        X.loc[X.acct_age.isna(),['acct_age']] = X.loc[X.acct_age.isna()==False,['acct_age']].mean()\n",
    "        low_nan_numeric = X[self.low_nan_numeric].to_numpy()\n",
    "        Y = self.nan_imputer.transform(low_nan_numeric)\n",
    "        if self.parse_beneficiary:\n",
    "            ben_vec = self.cv.transform(X.beneficiary).toarray()\n",
    "            Y = np.hstack([Y,ben_vec])\n",
    "        #print(X.beneficiary)\n",
    "        obj_array = np.hstack([self.obj_encoders[k].transform(X[k].to_numpy().reshape((-1,1))).toarray() for k in self.obj_encoders.keys()])\n",
    "        Y = np.hstack([Y,ben_vec,obj_array])\n",
    "        return Y\n",
    "    def fit_transform(self,X):\n",
    "        self.fit(X)\n",
    "        return self.transform(X)\n",
    "    \n",
    "def predict_threshold(random_forest,X,alpha):\n",
    "    return random_forest.predict_proba(X)[:,1]>alpha\n",
    "\n",
    "\n",
    "def net_dollars_saved(random_forest,alpha,X,Y,transaction_amount):\n",
    "    predictions = predict_threshold(random_forest,X,alpha)\n",
    "\n",
    "    return np.sum(predictions.reshape((-1,1))*Y.reshape((-1,1))*transaction_amount.to_numpy().reshape((-1,1))) - np.sum(predictions *(1-Y)*200)\n",
    "    "
   ]
  },
  {
   "cell_type": "code",
   "execution_count": null,
   "id": "882ced76-1a95-4ac8-94f3-0e605efb896a",
   "metadata": {},
   "outputs": [],
   "source": []
  },
  {
   "cell_type": "code",
   "execution_count": 27,
   "id": "56cd7b03-a7ee-4ef8-8d43-264fb5a2ad71",
   "metadata": {},
   "outputs": [],
   "source": [
    "n_estimators = np.random.uniform(50,500,32)\n",
    "n_estimators = [int(x) for x in n_estimators]\n",
    "alpha = np.random.uniform(.2,.8,32)\n",
    "date_differences = np.random.binomial(size=32, n=1, p= 0.5)>0\n",
    "parse_beneficiary = np.random.binomial(size=32, n=1, p= 0.5)>0\n",
    "nan_threshold = np.random.uniform(.04,.2,32)\n"
   ]
  },
  {
   "cell_type": "code",
   "execution_count": 28,
   "id": "4ccb12bb-6955-4559-b741-48789dadee6f",
   "metadata": {},
   "outputs": [
    {
     "ename": "NameError",
     "evalue": "name 'N' is not defined",
     "output_type": "error",
     "traceback": [
      "\u001b[1;31m---------------------------------------------------------------------------\u001b[0m",
      "\u001b[1;31mNameError\u001b[0m                                 Traceback (most recent call last)",
      "Input \u001b[1;32mIn [28]\u001b[0m, in \u001b[0;36m<cell line: 6>\u001b[1;34m()\u001b[0m\n\u001b[0;32m      4\u001b[0m random_forest \u001b[38;5;241m=\u001b[39m RandomForestClassifier(n_estimators[i])\n\u001b[0;32m      5\u001b[0m transaction_df \u001b[38;5;241m=\u001b[39m transaction_df\u001b[38;5;241m.\u001b[39msample(frac\u001b[38;5;241m=\u001b[39m\u001b[38;5;241m1\u001b[39m)\n\u001b[1;32m----> 6\u001b[0m transaction_amount_train \u001b[38;5;241m=\u001b[39m transaction_df\u001b[38;5;241m.\u001b[39miloc[:\u001b[38;5;28mint\u001b[39m(\u001b[43mN\u001b[49m\u001b[38;5;241m*\u001b[39m\u001b[38;5;241m.6\u001b[39m),:]\u001b[38;5;241m.\u001b[39mtransaction_amount\n\u001b[0;32m      7\u001b[0m transaction_amount_val \u001b[38;5;241m=\u001b[39m transaction_df\u001b[38;5;241m.\u001b[39miloc[\u001b[38;5;28mint\u001b[39m(N\u001b[38;5;241m*\u001b[39m\u001b[38;5;241m.6\u001b[39m):\u001b[38;5;28mint\u001b[39m(N\u001b[38;5;241m*\u001b[39m\u001b[38;5;241m.8\u001b[39m),:]\u001b[38;5;241m.\u001b[39mtransaction_amount\n\u001b[0;32m      8\u001b[0m transaction_amount_benchmark \u001b[38;5;241m=\u001b[39m transaction_df\u001b[38;5;241m.\u001b[39mloc[\u001b[38;5;28mint\u001b[39m(N\u001b[38;5;241m*\u001b[39m\u001b[38;5;241m.8\u001b[39m):,:]\u001b[38;5;241m.\u001b[39mtransaction_amount\n",
      "\u001b[1;31mNameError\u001b[0m: name 'N' is not defined"
     ]
    }
   ],
   "source": [
    "import json\n",
    "\n",
    "val_results = []\n",
    "random_forest = RandomForestClassifier(n_estimators[i])\n",
    "transaction_df = transaction_df.sample(frac=1)\n",
    "transaction_amount_train = transaction_df.iloc[:int(N*.6),:].transaction_amount\n",
    "transaction_amount_val = transaction_df.iloc[int(N*.6):int(N*.8),:].transaction_amount\n",
    "transaction_amount_benchmark = transaction_df.loc[int(N*.8):,:].transaction_amount\n",
    "N = len(transaction_df)\n",
    "\n",
    "for i in range(6):\n",
    "    print('hyper parameter ' ,i)\n",
    "    fraud_preprocessor = FraudPreprocessor(nan_threshold = nan_threshold[i], knn_k = 2, \n",
    "                                                    date_differences = date_differences[i], parse_beneficiary = parse_beneficiary[i])\n",
    "    X_all = transaction_df.drop(columns = ['transaction_id','targets'])\n",
    "    fraud_processor.fit_label_encoders(X_all)\n",
    "\n",
    "    X_train = transaction_df.iloc[:int(N*.6),:].drop(columns = ['transaction_id','targets'])\n",
    "    Y_train = transaction_df.iloc[:int(N*.6),].targets.to_numpy()\n",
    "    fraud_processor.fit(X_train)\n",
    "    X = fraud_processor.transform(X_train)\n",
    "    random_forest.fit(X,Y_train)\n",
    "\n",
    "\n",
    "    X_val = transaction_df.iloc[int(N*.6):int(N*.8),:].drop(columns = ['transaction_id','targets'])\n",
    "    Y_val = transaction_df.iloc[int(N*.6):int(N*.8),].targets.to_numpy()\n",
    "    X = fraud_processor.transform(X_val)\n",
    "    Y=Y_val\n",
    "\n",
    "    val_results =val_results + [{'n_estimators':n_estimators[i],\n",
    "                                 'alpha':alpha[i],\n",
    "                                 'date_differences':str(date_differences[i]),\n",
    "                                 'parse_beneficiary':str(parse_beneficiary[i]),\n",
    "                                 'nan_threshold':nan_threshold[i],\n",
    "        'net_dollar_saved': net_dollars_saved(random_forest,alpha[i],X,Y,transaction_amount_val),\n",
    "        '%_dollar_saved': net_dollars_saved(random_forest,alpha[i],X,Y,transaction_amount_val)/np.sum(transaction_amount_val),\n",
    "        'net_dollar_saved': net_dollars_saved(random_forest,alpha[i],X,Y,transaction_amount_val)/len(X),\n",
    "        'false positive rate':np.sum((1-Y)*predict_threshold(random_forest,X,alpha[i]))/np.sum(1-Y),\n",
    "        'precision':np.sum(Y*predict_threshold(random_forest,X,alpha[i]))/np.sum(predict_threshold(random_forest,X,alpha[i])),\n",
    "                                'score':random_forest.score(X,Y_val)}]\n",
    "with open('val_results.json','w') as results:\n",
    "    json.dump(val_results,results)\n",
    "\n",
    "\n",
    "\n",
    "# Running out of time to benchmark.\n",
    "\n",
    "\n"
   ]
  },
  {
   "cell_type": "markdown",
   "id": "dac8d66c-7150-4fe3-bb11-8d7804e05afe",
   "metadata": {},
   "source": [
    "# Best results:\n",
    "\n",
    "Hyperparameters. It is a tie between the following models. The first saves more money, but it also uses more nan columns. The second model parses beneficiaries possibly contributing to the performance. The first model seems to select more transactions as fraud giving it a better average performance for this validation set. The lower precision and elevated false positive are a cause for concern. It is possible the higher averaging of gain at the expense of some loss persist on new data sets. It is also possible the higher agressiveness will drag down the performance.\n",
    "\n",
    "\n",
    " \n",
    "{'n_estimators': 256,\n",
    " 'alpha': 0.2224703692557813,\n",
    " 'date_differences': 'True',\n",
    " 'parse_beneficiary': 'False',\n",
    " 'nan_threshold': 0.15835943232136937,\n",
    " 'net_dollar_saved': 6606.906412126691,\n",
    " '%_dollar_saved': 0.05803492623651563,\n",
    " 'false positive rate': 0.014970059880239521,\n",
    " 'precision': 0.7619047619047619,\n",
    " 'score': 0.9866920152091255}\n",
    " \n",
    " {'n_estimators': 219,\n",
    " 'alpha': 0.7523129647839868,\n",
    " 'date_differences': 'True',\n",
    " 'parse_beneficiary': 'True',\n",
    " 'nan_threshold': 0.05532994530726141,\n",
    " 'net_dollar_saved': 4018.0937464733147,\n",
    " '%_dollar_saved': 0.035294850515813846,\n",
    " 'false positive rate': 0.0,\n",
    " 'precision': 1.0,\n",
    " 'score': 0.9857414448669202}\n",
    " \n"
   ]
  },
  {
   "cell_type": "code",
   "execution_count": 1130,
   "id": "5bec847f-0bd9-46ec-bedf-cd87d52db7d9",
   "metadata": {},
   "outputs": [
    {
     "data": {
      "text/plain": [
       "{'n_estimators': 219,\n",
       " 'alpha': 0.7523129647839868,\n",
       " 'date_differences': 'True',\n",
       " 'parse_beneficiary': 'True',\n",
       " 'nan_threshold': 0.05532994530726141,\n",
       " 'net_dollar_saved': 4018.0937464733147,\n",
       " '%_dollar_saved': 0.035294850515813846,\n",
       " 'false positive rate': 0.0,\n",
       " 'precision': 1.0,\n",
       " 'score': 0.9857414448669202}"
      ]
     },
     "execution_count": 1130,
     "metadata": {},
     "output_type": "execute_result"
    }
   ],
   "source": [
    "val_results[3]"
   ]
  },
  {
   "cell_type": "markdown",
   "id": "996d91aa-d8c2-4d53-a20c-6b928769614d",
   "metadata": {},
   "source": [
    "# Slides:\n",
    "* Model metrics (this is where the real **value** is)\n",
    "  * AUC\n",
    "* XGBoost + cross validate some regularization.\n",
    "* Need to make ROC curve.\n",
    "* Data features:\n",
    "  * Basic data types, missing data and sparsity.\n",
    "  * Basic data cleaning\n",
    "  * Basic analysis.\n",
    "  * New features: Encoded business name. + age of account. \n",
    "* Basic model + SHAP for feature importance.\n",
    "* Challenge: Missing data generalization.\n",
    "  * Missing data imputed by xgboost.\n",
    "    * How well does it generalize to random missing data.\n",
    "  * KNN imputed data. + same question.\n",
    " "
   ]
  },
  {
   "cell_type": "code",
   "execution_count": null,
   "id": "5dcf49e6-b34e-4bcb-a554-42ec100d144d",
   "metadata": {},
   "outputs": [],
   "source": []
  },
  {
   "cell_type": "code",
   "execution_count": 33,
   "id": "1bbc8d50-9785-4065-896a-da43ec9591c1",
   "metadata": {},
   "outputs": [],
   "source": [
    "import xgboost as xgb\n"
   ]
  }
 ],
 "metadata": {
  "kernelspec": {
   "display_name": "Python 3 (ipykernel)",
   "language": "python",
   "name": "python3"
  },
  "language_info": {
   "codemirror_mode": {
    "name": "ipython",
    "version": 3
   },
   "file_extension": ".py",
   "mimetype": "text/x-python",
   "name": "python",
   "nbconvert_exporter": "python",
   "pygments_lexer": "ipython3",
   "version": "3.10.4"
  }
 },
 "nbformat": 4,
 "nbformat_minor": 5
}
